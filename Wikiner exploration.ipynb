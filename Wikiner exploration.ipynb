{
 "cells": [
  {
   "cell_type": "code",
   "execution_count": 1,
   "metadata": {},
   "outputs": [],
   "source": [
    "import bz2"
   ]
  },
  {
   "cell_type": "code",
   "execution_count": 2,
   "metadata": {},
   "outputs": [
    {
     "name": "stderr",
     "output_type": "stream",
     "text": [
      "Using TensorFlow backend.\n"
     ]
    }
   ],
   "source": [
    "from preprocessing import readfile, createBatches, createMatrices, iterate_minibatches, addCharInformation, padding"
   ]
  },
  {
   "cell_type": "code",
   "execution_count": 3,
   "metadata": {},
   "outputs": [],
   "source": [
    "dict = {}\n",
    "for c in 'áÁéÉíÍóÓúÚñÑ':\n",
    "    dict[c.encode('latin1')] = c"
   ]
  },
  {
   "cell_type": "code",
   "execution_count": 4,
   "metadata": {},
   "outputs": [],
   "source": [
    "def SaveWikiFile(path, name_file, save_path, final_name):\n",
    "    bz_file = bz2.open(path + name_file)\n",
    "    bz_file.readline()\n",
    "    outputfile =  open(save_path + final_name, 'w+')\n",
    "    for line in bz_file:\n",
    "        line = str(line)\n",
    "        line = line.replace('b\\'', '').replace('\\n', '').replace('\\\\n', '')\n",
    "        for key in dict:\n",
    "            new_key = str(key).replace('b', '').replace('\\'', '')\n",
    "            #print(new_key)\n",
    "            if new_key in line:\n",
    "                #print(line)\n",
    "                new_value = dict[key]\n",
    "                #print(new_value)\n",
    "                line = line.replace(new_key, new_value)\n",
    "                #print(line)\n",
    "\n",
    "        sentence = line.split(' ')\n",
    "        for token in sentence:\n",
    "            part = token.split('|')\n",
    "            if len(part) == 3:\n",
    "                word = part[0]\n",
    "                pos = part[1]\n",
    "                label = part[2].replace('\\'', '').replace('O\\\"', 'O')\n",
    "                #print(word, pos, label)\n",
    "                outputfile.write(word + \" \" + pos + \" \" + label + \"\\n\")\n",
    "\n",
    "        #print(sentence)\n",
    "        outputfile.write(\"\\n\")\n",
    "    #print()\n",
    "    outputfile.close()"
   ]
  },
  {
   "cell_type": "code",
   "execution_count": 5,
   "metadata": {},
   "outputs": [],
   "source": [
    "SaveWikiFile(\"./datasets/corpus/wikiner/\",\"aijwikinereswp2.bz2\",\"./datasets/corpus/wikiner/\", \"wikinerWp2.txt\" )"
   ]
  },
  {
   "cell_type": "code",
   "execution_count": 6,
   "metadata": {},
   "outputs": [],
   "source": [
    "SaveWikiFile(\"./datasets/corpus/wikiner/\",\"aijwikinereswp3.bz2\",\"./datasets/corpus/wikiner/\", \"wikinerWp3.txt\" )"
   ]
  },
  {
   "cell_type": "code",
   "execution_count": null,
   "metadata": {},
   "outputs": [],
   "source": [
    "data = readfile('./datasets/corpus/wikiner/wikinerWp3.txt', encoding='latin1')"
   ]
  },
  {
   "cell_type": "code",
   "execution_count": null,
   "metadata": {},
   "outputs": [],
   "source": [
    "len(data)"
   ]
  },
  {
   "cell_type": "code",
   "execution_count": null,
   "metadata": {},
   "outputs": [],
   "source": [
    "dev = data[0:63518]"
   ]
  },
  {
   "cell_type": "code",
   "execution_count": null,
   "metadata": {},
   "outputs": [],
   "source": [
    "len(dev)"
   ]
  },
  {
   "cell_type": "code",
   "execution_count": null,
   "metadata": {},
   "outputs": [],
   "source": [
    "dev[0]"
   ]
  },
  {
   "cell_type": "code",
   "execution_count": null,
   "metadata": {},
   "outputs": [],
   "source": [
    "test = data[63518:]"
   ]
  },
  {
   "cell_type": "code",
   "execution_count": null,
   "metadata": {},
   "outputs": [],
   "source": [
    "test[0]"
   ]
  },
  {
   "cell_type": "code",
   "execution_count": null,
   "metadata": {},
   "outputs": [],
   "source": [
    "len(data)"
   ]
  },
  {
   "cell_type": "code",
   "execution_count": null,
   "metadata": {},
   "outputs": [],
   "source": [
    "from sklearn.model_selection import train_test_split"
   ]
  },
  {
   "cell_type": "code",
   "execution_count": null,
   "metadata": {},
   "outputs": [],
   "source": [
    "X_train, X_test, y_train, y_test = train_test_split(X, y, test_size=0.33, random_state=42)"
   ]
  }
 ],
 "metadata": {
  "kernelspec": {
   "display_name": "Python 3",
   "language": "python",
   "name": "python3"
  },
  "language_info": {
   "codemirror_mode": {
    "name": "ipython",
    "version": 3
   },
   "file_extension": ".py",
   "mimetype": "text/x-python",
   "name": "python",
   "nbconvert_exporter": "python",
   "pygments_lexer": "ipython3",
   "version": "3.7.4"
  }
 },
 "nbformat": 4,
 "nbformat_minor": 2
}
